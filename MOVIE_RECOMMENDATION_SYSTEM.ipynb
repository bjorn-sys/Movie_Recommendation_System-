{
 "cells": [
  {
   "cell_type": "markdown",
   "id": "7b391cc4",
   "metadata": {},
   "source": [
    "# RECOMMENDATION ENGINE USING COSINE SIMILARITY"
   ]
  },
  {
   "cell_type": "markdown",
   "id": "169e867c",
   "metadata": {},
   "source": [
    "**IMPORTING THE LIBRARIES**"
   ]
  },
  {
   "cell_type": "code",
   "execution_count": 52,
   "id": "35617739",
   "metadata": {},
   "outputs": [],
   "source": [
    "import pandas as pd\n",
    "import numpy as np\n",
    "from sklearn.feature_extraction.text import TfidfVectorizer\n",
    "from sklearn.metrics.pairwise import cosine_similarity\n",
    "import re\n",
    "import warnings\n",
    "warnings.filterwarnings('ignore')\n"
   ]
  },
  {
   "cell_type": "markdown",
   "id": "dc0c4ed5",
   "metadata": {},
   "source": [
    "**READING IN THE DATA**"
   ]
  },
  {
   "cell_type": "code",
   "execution_count": 54,
   "id": "f7d382ff",
   "metadata": {},
   "outputs": [
    {
     "name": "stdout",
     "output_type": "stream",
     "text": [
      " Dataset loaded successfully with 9999 rows and 9 columns\n"
     ]
    }
   ],
   "source": [
    "# 1. DATA LOADING AND PREPROCESSING\n",
    "\n",
    "# Load the dataset\n",
    "df = pd.read_csv(r'C:\\Users\\USER\\Desktop\\PDF\\movies.csv')\n",
    "print(f\" Dataset loaded successfully with {df.shape[0]} rows and {df.shape[1]} columns\")\n",
    "        \n"
   ]
  },
  {
   "cell_type": "markdown",
   "id": "12045c42",
   "metadata": {},
   "source": [
    "**LIST OF THE DATA**"
   ]
  },
  {
   "cell_type": "code",
   "execution_count": 55,
   "id": "3502265b",
   "metadata": {},
   "outputs": [
    {
     "name": "stdout",
     "output_type": "stream",
     "text": [
      "📋 Available columns: ['MOVIES', 'YEAR', 'GENRE', 'RATING', 'ONE-LINE', 'STARS', 'VOTES', 'RunTime', 'Gross']\n"
     ]
    }
   ],
   "source": [
    "\n",
    "# Display column names for reference\n",
    "print(f\"📋 Available columns: {list(df.columns)}\")\n"
   ]
  },
  {
   "cell_type": "markdown",
   "id": "f891f719",
   "metadata": {},
   "source": [
    "**COPYING THE DATASET NEEDED**"
   ]
  },
  {
   "cell_type": "code",
   "execution_count": 56,
   "id": "5b2329df",
   "metadata": {},
   "outputs": [
    {
     "data": {
      "text/html": [
       "<div>\n",
       "<style scoped>\n",
       "    .dataframe tbody tr th:only-of-type {\n",
       "        vertical-align: middle;\n",
       "    }\n",
       "\n",
       "    .dataframe tbody tr th {\n",
       "        vertical-align: top;\n",
       "    }\n",
       "\n",
       "    .dataframe thead th {\n",
       "        text-align: right;\n",
       "    }\n",
       "</style>\n",
       "<table border=\"1\" class=\"dataframe\">\n",
       "  <thead>\n",
       "    <tr style=\"text-align: right;\">\n",
       "      <th></th>\n",
       "      <th>MOVIES</th>\n",
       "      <th>GENRE</th>\n",
       "      <th>ONE-LINE</th>\n",
       "    </tr>\n",
       "  </thead>\n",
       "  <tbody>\n",
       "    <tr>\n",
       "      <th>0</th>\n",
       "      <td>Blood Red Sky</td>\n",
       "      <td>\\nAction, Horror, Thriller</td>\n",
       "      <td>\\nA woman with a mysterious illness is forced ...</td>\n",
       "    </tr>\n",
       "    <tr>\n",
       "      <th>1</th>\n",
       "      <td>Masters of the Universe: Revelation</td>\n",
       "      <td>\\nAnimation, Action, Adventure</td>\n",
       "      <td>\\nThe war for Eternia begins again in what may...</td>\n",
       "    </tr>\n",
       "    <tr>\n",
       "      <th>2</th>\n",
       "      <td>The Walking Dead</td>\n",
       "      <td>\\nDrama, Horror, Thriller</td>\n",
       "      <td>\\nSheriff Deputy Rick Grimes wakes up from a c...</td>\n",
       "    </tr>\n",
       "    <tr>\n",
       "      <th>3</th>\n",
       "      <td>Rick and Morty</td>\n",
       "      <td>\\nAnimation, Adventure, Comedy</td>\n",
       "      <td>\\nAn animated series that follows the exploits...</td>\n",
       "    </tr>\n",
       "    <tr>\n",
       "      <th>4</th>\n",
       "      <td>Army of Thieves</td>\n",
       "      <td>\\nAction, Crime, Horror</td>\n",
       "      <td>\\nA prequel, set before the events of Army of ...</td>\n",
       "    </tr>\n",
       "    <tr>\n",
       "      <th>...</th>\n",
       "      <td>...</td>\n",
       "      <td>...</td>\n",
       "      <td>...</td>\n",
       "    </tr>\n",
       "    <tr>\n",
       "      <th>9994</th>\n",
       "      <td>The Imperfects</td>\n",
       "      <td>\\nAdventure, Drama, Fantasy</td>\n",
       "      <td>\\nAdd a Plot\\n</td>\n",
       "    </tr>\n",
       "    <tr>\n",
       "      <th>9995</th>\n",
       "      <td>Arcane</td>\n",
       "      <td>\\nAnimation, Action, Adventure</td>\n",
       "      <td>\\nAdd a Plot\\n</td>\n",
       "    </tr>\n",
       "    <tr>\n",
       "      <th>9996</th>\n",
       "      <td>Heart of Invictus</td>\n",
       "      <td>\\nDocumentary, Sport</td>\n",
       "      <td>\\nAdd a Plot\\n</td>\n",
       "    </tr>\n",
       "    <tr>\n",
       "      <th>9997</th>\n",
       "      <td>The Imperfects</td>\n",
       "      <td>\\nAdventure, Drama, Fantasy</td>\n",
       "      <td>\\nAdd a Plot\\n</td>\n",
       "    </tr>\n",
       "    <tr>\n",
       "      <th>9998</th>\n",
       "      <td>The Imperfects</td>\n",
       "      <td>\\nAdventure, Drama, Fantasy</td>\n",
       "      <td>\\nAdd a Plot\\n</td>\n",
       "    </tr>\n",
       "  </tbody>\n",
       "</table>\n",
       "<p>9999 rows × 3 columns</p>\n",
       "</div>"
      ],
      "text/plain": [
       "                                   MOVIES  \\\n",
       "0                           Blood Red Sky   \n",
       "1     Masters of the Universe: Revelation   \n",
       "2                        The Walking Dead   \n",
       "3                          Rick and Morty   \n",
       "4                         Army of Thieves   \n",
       "...                                   ...   \n",
       "9994                       The Imperfects   \n",
       "9995                               Arcane   \n",
       "9996                    Heart of Invictus   \n",
       "9997                       The Imperfects   \n",
       "9998                       The Imperfects   \n",
       "\n",
       "                                           GENRE  \\\n",
       "0         \\nAction, Horror, Thriller               \n",
       "1     \\nAnimation, Action, Adventure               \n",
       "2          \\nDrama, Horror, Thriller               \n",
       "3     \\nAnimation, Adventure, Comedy               \n",
       "4            \\nAction, Crime, Horror               \n",
       "...                                          ...   \n",
       "9994     \\nAdventure, Drama, Fantasy               \n",
       "9995  \\nAnimation, Action, Adventure               \n",
       "9996            \\nDocumentary, Sport               \n",
       "9997     \\nAdventure, Drama, Fantasy               \n",
       "9998     \\nAdventure, Drama, Fantasy               \n",
       "\n",
       "                                               ONE-LINE  \n",
       "0     \\nA woman with a mysterious illness is forced ...  \n",
       "1     \\nThe war for Eternia begins again in what may...  \n",
       "2     \\nSheriff Deputy Rick Grimes wakes up from a c...  \n",
       "3     \\nAn animated series that follows the exploits...  \n",
       "4     \\nA prequel, set before the events of Army of ...  \n",
       "...                                                 ...  \n",
       "9994                                     \\nAdd a Plot\\n  \n",
       "9995                                     \\nAdd a Plot\\n  \n",
       "9996                                     \\nAdd a Plot\\n  \n",
       "9997                                     \\nAdd a Plot\\n  \n",
       "9998                                     \\nAdd a Plot\\n  \n",
       "\n",
       "[9999 rows x 3 columns]"
      ]
     },
     "execution_count": 56,
     "metadata": {},
     "output_type": "execute_result"
    }
   ],
   "source": [
    "# Select relevant columns for our recommendation system\n",
    "# Assuming the dataset has columns: MOVIES, GENRE, and ONE-LINE\n",
    "df = df[['MOVIES', 'GENRE', 'ONE-LINE']].copy()\n",
    "df\n"
   ]
  },
  {
   "cell_type": "markdown",
   "id": "17cfa947",
   "metadata": {},
   "source": [
    "**CHECKING FOR MISSING VALUES**"
   ]
  },
  {
   "cell_type": "code",
   "execution_count": 57,
   "id": "0816c55e",
   "metadata": {},
   "outputs": [
    {
     "name": "stdout",
     "output_type": "stream",
     "text": [
      "🔍 Missing values before cleaning:\n",
      "MOVIES       0\n",
      "GENRE       80\n",
      "ONE-LINE     0\n",
      "dtype: int64\n"
     ]
    }
   ],
   "source": [
    "# Check for missing values\n",
    "print(f\"🔍 Missing values before cleaning:\")\n",
    "print(df.isnull().sum())\n"
   ]
  },
  {
   "cell_type": "markdown",
   "id": "509884aa",
   "metadata": {},
   "source": [
    "**DROPPING MISSING VALUES**"
   ]
  },
  {
   "cell_type": "code",
   "execution_count": 58,
   "id": "c76b5e91",
   "metadata": {},
   "outputs": [],
   "source": [
    "df.dropna(inplace=True)\n"
   ]
  },
  {
   "cell_type": "markdown",
   "id": "9d00dd76",
   "metadata": {},
   "source": [
    "**CHECKING AND DROPPING DUPLICATES**"
   ]
  },
  {
   "cell_type": "code",
   "execution_count": 59,
   "id": "cb1a6420",
   "metadata": {},
   "outputs": [
    {
     "name": "stdout",
     "output_type": "stream",
     "text": [
      "🔍 Number of duplicate rows: 847\n"
     ]
    }
   ],
   "source": [
    "# Check for duplicates\n",
    "print(f\"🔍 Number of duplicate rows: {df.duplicated().sum()}\")\n",
    "df.drop_duplicates(inplace=True)\n"
   ]
  },
  {
   "cell_type": "markdown",
   "id": "2c4443e0",
   "metadata": {},
   "source": [
    "**CHECKING AFTER DATA CLEANING**"
   ]
  },
  {
   "cell_type": "code",
   "execution_count": 60,
   "id": "3b742ce9",
   "metadata": {},
   "outputs": [
    {
     "name": "stdout",
     "output_type": "stream",
     "text": [
      "🔍 Number of duplicate rows: 0\n",
      " Dataset info after preprocessing:\n",
      " Total movies: 9072\n",
      " Unique genres: 510\n"
     ]
    }
   ],
   "source": [
    "# Check for duplicates\n",
    "print(f\"🔍 Number of duplicate rows: {df.duplicated().sum()}\")\n",
    "        \n",
    "        # Basic data information\n",
    "print(f\" Dataset info after preprocessing:\")\n",
    "print(f\" Total movies: {len(df)}\")\n",
    "print(f\" Unique genres: {df['GENRE'].nunique()}\")\n",
    "    "
   ]
  },
  {
   "cell_type": "markdown",
   "id": "0e8f93c1",
   "metadata": {},
   "source": [
    "**DATA PREPROCESSING**"
   ]
  },
  {
   "cell_type": "code",
   "execution_count": 61,
   "id": "3460c890",
   "metadata": {},
   "outputs": [],
   "source": [
    "# =============================================================================\n",
    "# 2. TEXT PREPROCESSING AND FEATURE ENGINEERING\n",
    "# =============================================================================\n",
    "def preprocess_text(text):\n",
    "\n",
    "    # Convert to lowercase\n",
    "    text = text.lower()\n",
    "    \n",
    "    # Remove special characters and digits\n",
    "    text = re.sub(r'[^a-zA-Z\\s]', '', text)\n",
    "\n",
    "    # Remove specific unwanted phrases\n",
    "    if text == 'add a plot' :\n",
    "        df.drop(df[df['ONE-LINE'] == 'add a plot'].index, inplace=True)\n",
    "    \n",
    "    # Remove extra whitespace\n",
    "    text = re.sub(r'\\s+', ' ', text).strip()\n",
    "    \n",
    "    return text\n"
   ]
  },
  {
   "cell_type": "markdown",
   "id": "b2a1585f",
   "metadata": {},
   "source": [
    "**APPLYING PREPROCESSING STEPS**"
   ]
  },
  {
   "cell_type": "code",
   "execution_count": 62,
   "id": "7da89a62",
   "metadata": {},
   "outputs": [],
   "source": [
    "for col in ['MOVIES', 'GENRE', 'ONE-LINE']:\n",
    "    df[col] = df[col].apply(preprocess_text)\n",
    "    \n"
   ]
  },
  {
   "cell_type": "code",
   "execution_count": 63,
   "id": "26a46aaa",
   "metadata": {},
   "outputs": [
    {
     "name": "stdout",
     "output_type": "stream",
     "text": [
      " the sample of created content features:\n"
     ]
    },
    {
     "data": {
      "text/html": [
       "<div>\n",
       "<style scoped>\n",
       "    .dataframe tbody tr th:only-of-type {\n",
       "        vertical-align: middle;\n",
       "    }\n",
       "\n",
       "    .dataframe tbody tr th {\n",
       "        vertical-align: top;\n",
       "    }\n",
       "\n",
       "    .dataframe thead th {\n",
       "        text-align: right;\n",
       "    }\n",
       "</style>\n",
       "<table border=\"1\" class=\"dataframe\">\n",
       "  <thead>\n",
       "    <tr style=\"text-align: right;\">\n",
       "      <th></th>\n",
       "      <th>MOVIES</th>\n",
       "      <th>GENRE</th>\n",
       "      <th>ONE-LINE</th>\n",
       "      <th>content</th>\n",
       "    </tr>\n",
       "  </thead>\n",
       "  <tbody>\n",
       "    <tr>\n",
       "      <th>0</th>\n",
       "      <td>blood red sky</td>\n",
       "      <td>action horror thriller</td>\n",
       "      <td>a woman with a mysterious illness is forced in...</td>\n",
       "      <td>action horror thriller a woman with a mysterio...</td>\n",
       "    </tr>\n",
       "    <tr>\n",
       "      <th>1</th>\n",
       "      <td>masters of the universe revelation</td>\n",
       "      <td>animation action adventure</td>\n",
       "      <td>the war for eternia begins again in what may b...</td>\n",
       "      <td>animation action adventure the war for eternia...</td>\n",
       "    </tr>\n",
       "    <tr>\n",
       "      <th>2</th>\n",
       "      <td>the walking dead</td>\n",
       "      <td>drama horror thriller</td>\n",
       "      <td>sheriff deputy rick grimes wakes up from a com...</td>\n",
       "      <td>drama horror thriller sheriff deputy rick grim...</td>\n",
       "    </tr>\n",
       "    <tr>\n",
       "      <th>3</th>\n",
       "      <td>rick and morty</td>\n",
       "      <td>animation adventure comedy</td>\n",
       "      <td>an animated series that follows the exploits o...</td>\n",
       "      <td>animation adventure comedy an animated series ...</td>\n",
       "    </tr>\n",
       "    <tr>\n",
       "      <th>4</th>\n",
       "      <td>army of thieves</td>\n",
       "      <td>action crime horror</td>\n",
       "      <td>a prequel set before the events of army of the...</td>\n",
       "      <td>action crime horror a prequel set before the e...</td>\n",
       "    </tr>\n",
       "  </tbody>\n",
       "</table>\n",
       "</div>"
      ],
      "text/plain": [
       "                               MOVIES                       GENRE  \\\n",
       "0                       blood red sky      action horror thriller   \n",
       "1  masters of the universe revelation  animation action adventure   \n",
       "2                    the walking dead       drama horror thriller   \n",
       "3                      rick and morty  animation adventure comedy   \n",
       "4                     army of thieves         action crime horror   \n",
       "\n",
       "                                            ONE-LINE  \\\n",
       "0  a woman with a mysterious illness is forced in...   \n",
       "1  the war for eternia begins again in what may b...   \n",
       "2  sheriff deputy rick grimes wakes up from a com...   \n",
       "3  an animated series that follows the exploits o...   \n",
       "4  a prequel set before the events of army of the...   \n",
       "\n",
       "                                             content  \n",
       "0  action horror thriller a woman with a mysterio...  \n",
       "1  animation action adventure the war for eternia...  \n",
       "2  drama horror thriller sheriff deputy rick grim...  \n",
       "3  animation adventure comedy an animated series ...  \n",
       "4  action crime horror a prequel set before the e...  "
      ]
     },
     "execution_count": 63,
     "metadata": {},
     "output_type": "execute_result"
    }
   ],
   "source": [
    "\n",
    "# Combine genre and one-line description to create content for recommendations\n",
    "df['content'] = df['GENRE'] + \" \" + df['ONE-LINE']\n",
    "\n",
    "print(\" the sample of created content features:\")\n",
    "df.head()\n"
   ]
  },
  {
   "cell_type": "markdown",
   "id": "a7b03522",
   "metadata": {},
   "source": [
    "**INITIALIZING VECTORIZER**"
   ]
  },
  {
   "cell_type": "code",
   "execution_count": 64,
   "id": "1ef62c48",
   "metadata": {},
   "outputs": [
    {
     "name": "stdout",
     "output_type": "stream",
     "text": [
      "✅ TF-IDF matrix created with shape: (9072, 10000)\n",
      "   Vocabulary size: 10000\n"
     ]
    }
   ],
   "source": [
    "# Initialize TF-IDF Vectorizer with specific parameters\n",
    "# - stop_words=\"english\": removes common English words like \"the\", \"and\", etc.\n",
    "# - max_df=0.7: ignores terms that appear in more than 70% of documents\n",
    "# - min_df=2: ignores terms that appear in fewer than 2 documents\n",
    "# - ngram_range=(1, 2): considers both single words and word pairs\n",
    "# - max_features=10000: limits the number of features to manage memory\n",
    "vectorizer = TfidfVectorizer(\n",
    "    stop_words=\"english\",\n",
    "    max_df=0.7,\n",
    "    min_df=2,\n",
    "    ngram_range=(1, 2),\n",
    "    max_features=10000\n",
    ")\n",
    "\n",
    "# Fit and transform the text content into TF-IDF vectors\n",
    "tfidf_matrix = vectorizer.fit_transform(df['content'])\n",
    "\n",
    "print(f\"✅ TF-IDF matrix created with shape: {tfidf_matrix.shape}\")\n",
    "print(f\"   Vocabulary size: {len(vectorizer.get_feature_names_out())}\")\n"
   ]
  },
  {
   "cell_type": "markdown",
   "id": "577c3ee4",
   "metadata": {},
   "source": [
    "**COSINE SIMILARITY**"
   ]
  },
  {
   "cell_type": "code",
   "execution_count": 41,
   "id": "1af959b0",
   "metadata": {},
   "outputs": [
    {
     "name": "stdout",
     "output_type": "stream",
     "text": [
      "\n",
      "============================================================\n",
      " CALCULATING COSINE SIMILARITY\n",
      "============================================================\n",
      "✅ Cosine similarity matrix computed with shape: (8662, 8662)\n"
     ]
    }
   ],
   "source": [
    "# =============================================================================\n",
    "# 4. COSINE SIMILARITY CALCULATION\n",
    "# =============================================================================\n",
    "print(\"\\n\" + \"=\" * 60)\n",
    "print(\" CALCULATING COSINE SIMILARITY\")\n",
    "print(\"=\" * 60)\n",
    "\n",
    "# Compute cosine similarity between all movies based on their TF-IDF vectors\n",
    "cosine_sim = cosine_similarity(tfidf_matrix, tfidf_matrix)\n",
    "\n",
    "print(f\"✅ Cosine similarity matrix computed with shape: {cosine_sim.shape}\")\n"
   ]
  },
  {
   "cell_type": "markdown",
   "id": "6442cfa8",
   "metadata": {},
   "source": [
    "**CREATING INDEX MAPPING**"
   ]
  },
  {
   "cell_type": "code",
   "execution_count": 67,
   "id": "b6d82518",
   "metadata": {},
   "outputs": [
    {
     "name": "stdout",
     "output_type": "stream",
     "text": [
      "\n",
      "============================================================\n",
      "🎯 BUILDING RECOMMENDATION ENGINE\n",
      "============================================================\n",
      "✅ Created index mapping for 9072 movies\n"
     ]
    }
   ],
   "source": [
    "print(\"\\n\" + \"=\" * 60)\n",
    "print(\"🎯 BUILDING RECOMMENDATION ENGINE\")\n",
    "print(\"=\" * 60)\n",
    "\n",
    "# Reset index for easier lookup and create mapping from movie titles to indices\n",
    "df = df.reset_index(drop=True) # Reset index after dropping rows and prevents the use of old indexes\n",
    "indices = pd.Series(df.index, index=df['MOVIES']).drop_duplicates()\n",
    "\n",
    "print(f\"✅ Created index mapping for {len(indices)} movies\")\n",
    "\n"
   ]
  },
  {
   "cell_type": "code",
   "execution_count": 68,
   "id": "061de250",
   "metadata": {},
   "outputs": [
    {
     "name": "stdout",
     "output_type": "stream",
     "text": [
      "✅ Recommendation function created successfully!\n"
     ]
    }
   ],
   "source": [
    "# ==========================================================================\n",
    "# 6. RECOMMENDATION FUNCTION\n",
    "# =============================================================================\n",
    "# Define the recommendation function\n",
    "def recommend_movies(movie_title, n=5, genre_filter=None):\n",
    "    \n",
    "    # Check if movie exists in the dataset\n",
    "    if movie_title not in indices:\n",
    "        # Try to find similar titles in case of typo or case mismatch\n",
    "        similar_titles = [title for title in indices.index if movie_title.lower() in title.lower()]\n",
    "        if similar_titles:\n",
    "            return f\" Movie '{movie_title}' not found. Did you mean: {', '.join(similar_titles[:3])}?\"\n",
    "        else:\n",
    "            return f\" Movie '{movie_title}' not found in dataset!\"\n",
    "    \n",
    "    # Get the index of the movie\n",
    "    idx = indices[movie_title]\n",
    "    \n",
    "    # Get pairwise similarity scores\n",
    "    sim_scores = list(enumerate(cosine_sim[idx]))\n",
    "    \n",
    "    # Sort movies based on similarity scores\n",
    "    sim_scores = sorted(sim_scores, key=lambda x: x[1], reverse=True)\n",
    "    \n",
    "    # Get scores of the top n+5 most similar movies (including itself)\n",
    "    sim_scores = sim_scores[1:n+6]  # Get extra in case we need to filter by genre\n",
    "    \n",
    "    # Get the movie indices\n",
    "    movie_indices = [i[0] for i in sim_scores]\n",
    "    \n",
    "    # Get the similarity scores for recommended movies\n",
    "    similarity_values = [i[1] for i in sim_scores]\n",
    "    \n",
    "    # Create a DataFrame with the recommendations\n",
    "    recommendations = df[['MOVIES', 'GENRE']].iloc[movie_indices].copy()\n",
    "    recommendations['Similarity_Score'] = similarity_values\n",
    "    \n",
    "    # Apply genre filter if specified\n",
    "    if genre_filter:\n",
    "        genre_filter = genre_filter.lower()\n",
    "        recommendations = recommendations[\n",
    "            recommendations['GENRE'].str.lower().str.contains(genre_filter)\n",
    "        ]\n",
    "    \n",
    "    # Return top n recommendations\n",
    "    return recommendations.head(n)\n",
    "\n",
    "print(\"✅ Recommendation function created successfully!\")\n"
   ]
  },
  {
   "cell_type": "code",
   "execution_count": 69,
   "id": "11770ee5",
   "metadata": {},
   "outputs": [
    {
     "name": "stdout",
     "output_type": "stream",
     "text": [
      "\n",
      "============================================================\n",
      " TESTING THE RECOMMENDATION SYSTEM\n",
      "============================================================\n",
      "\n",
      " Recommendations for 'blood red sky':\n",
      "\n",
      " Recommendations for 'blood red sky' in similar genre:\n",
      "       MOVIES                 GENRE  Similarity_Score\n",
      "       flight    drama horror scifi          0.276163\n",
      "the bad batch action horror mystery          0.180477\n",
      "\n",
      " Sample of available movies in dataset:\n",
      "\n",
      "============================================================\n",
      " MOVIE RECOMMENDATION SYSTEM READY!\n",
      "============================================================\n"
     ]
    }
   ],
   "source": [
    "\n",
    "# =============================================================================\n",
    "# 7. TESTING THE RECOMMENDATION SYSTEM\n",
    "# =============================================================================\n",
    "print(\"\\n\" + \"=\" * 60)\n",
    "print(\" TESTING THE RECOMMENDATION SYSTEM\")\n",
    "print(\"=\" * 60)\n",
    "\n",
    "# Test with a movie title\n",
    "test_movie = \"blood red sky\"  # Change this to any movie in your dataset\n",
    "\n",
    "print(f\"\\n Recommendations for '{test_movie}':\")\n",
    "recommendations = recommend_movies(test_movie, n=5)\n",
    "\n",
    "\n",
    "\n",
    "# Demonstrate with genre filtering\n",
    "print(f\"\\n Recommendations for '{test_movie}' in similar genre:\")\n",
    "genre_filtered_recommendations = recommend_movies(test_movie, n=5, genre_filter=\"horror\")\n",
    "\n",
    "if isinstance(genre_filtered_recommendations, pd.DataFrame):\n",
    "    print(genre_filtered_recommendations.to_string(index=False))\n",
    "else:\n",
    "    print(genre_filtered_recommendations)\n",
    "\n",
    "# Show sample of available movies\n",
    "print(f\"\\n Sample of available movies in dataset:\")\n",
    "df['MOVIES'].head(10).to_string(index=False)\n",
    "\n",
    "print(\"\\n\" + \"=\" * 60)\n",
    "print(\" MOVIE RECOMMENDATION SYSTEM READY!\")\n",
    "print(\"=\" * 60)\n"
   ]
  }
 ],
 "metadata": {
  "kernelspec": {
   "display_name": "Python 3",
   "language": "python",
   "name": "python3"
  },
  "language_info": {
   "codemirror_mode": {
    "name": "ipython",
    "version": 3
   },
   "file_extension": ".py",
   "mimetype": "text/x-python",
   "name": "python",
   "nbconvert_exporter": "python",
   "pygments_lexer": "ipython3",
   "version": "3.12.5"
  }
 },
 "nbformat": 4,
 "nbformat_minor": 5
}
